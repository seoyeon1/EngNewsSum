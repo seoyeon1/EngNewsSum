{
  "nbformat": 4,
  "nbformat_minor": 0,
  "metadata": {
    "colab": {
      "name": "링크로본문가져오기",
      "provenance": [],
      "collapsed_sections": []
    },
    "kernelspec": {
      "name": "python3",
      "display_name": "Python 3"
    },
    "language_info": {
      "name": "python"
    }
  },
  "cells": [
    {
      "cell_type": "code",
      "metadata": {
        "id": "zrnTsPpw3i2G"
      },
      "source": [
        "import numpy as np\n",
        "import pandas as pd\n",
        "import matplotlib.pyplot as plt\n",
        "import urllib.request\n",
        "import seaborn as sns\n",
        "from bs4 import BeautifulSoup\n",
        "from nltk.tokenize import sent_tokenize\n",
        "\n",
        "url = 'https://www.nytimes.com/2021/05/12/world/middleeast/israeli-palestinian-conflict-gaza-hamas.html?action=click&module=Spotlight&pgtype=Homepage'\n",
        "html = urllib.request.urlopen(url)\n",
        "soupNY = BeautifulSoup(html, 'html.parser')\n",
        "print(soupNY.prettify())"
      ],
      "execution_count": null,
      "outputs": []
    },
    {
      "cell_type": "code",
      "metadata": {
        "colab": {
          "base_uri": "https://localhost:8080/"
        },
        "id": "OE7ENGtO7mcK",
        "outputId": "9cb174cc-f700-4022-bd8c-36403f317648"
      },
      "source": [
        "\n",
        "soupNY.find_all('p',class_=\"css-axufdj evys1bk0\")"
      ],
      "execution_count": null,
      "outputs": [
        {
          "output_type": "execute_result",
          "data": {
            "text/plain": [
              "[<p class=\"css-axufdj evys1bk0\">JERUSALEM — A new front opened in the military showdown between the Israeli Army and Palestinian militants in Gaza on Wednesday as a wave of mob violence between Jews and Arabs spread across several Israeli cities, leading to riots and attacks in the streets as rockets and missiles streaked across the sky.</p>,\n",
              " <p class=\"css-axufdj evys1bk0\">Israel said it assassinated 10 senior militants and continued to pound both military and residential areas across the Gaza Strip with airstrikes, while Hamas, the Islamist group that rules Gaza, and its allies continued to fire rockets into civilian areas across central and southern Israel.</p>,\n",
              " <p class=\"css-axufdj evys1bk0\">More than 1,000 rockets had been fired from Gaza by Wednesday night, most of them intercepted by an antimissile defense system, the Israeli military said.</p>,\n",
              " <p class=\"css-axufdj evys1bk0\">More than 67 Palestinians, including 16 children, have died since the start of the conflict on Monday, Palestinian health officials said. The rockets fired by Hamas and its Islamist ally, Islamic Jihad, killed at least six Israeli civilians, including a 5-year-old boy and one soldier.</p>,\n",
              " <p class=\"css-axufdj evys1bk0\">The fighting showed no signs of letting up. An Israeli military official said Wednesday that three infantry brigades were “preparing for a worst-case scenario,” confirming that a ground invasion could follow the bombardment from the air.</p>,\n",
              " <p class=\"css-axufdj evys1bk0\">But the most unexpected developments played out on the streets of Israeli cities and towns, as rival Jewish and Arab mobs attacked people, cars, shops, offices and hotels.</p>,\n",
              " <p class=\"css-axufdj evys1bk0\">One of the most chilling incidents was in Bat Yam, a seaside suburb south of Tel Aviv, where dozens of Jewish extremists took turns beating and kicking a man presumed to be an Arab, even as his body lay motionless on the ground. A video of the attack was broadcast on Israeli television.</p>,\n",
              " <p class=\"css-axufdj evys1bk0\">In Acre, a northern coastal town, an Arab mob beat a man presumed to be Jewish with sticks and rocks, leaving him in a critical condition in another attack captured on video. In Tamra, an Arab mob attacked a man presumed to be Jewish and nearly beat him to death, according to an Arab paramedic who saved him.</p>,\n",
              " <p class=\"css-axufdj evys1bk0\">Israeli officials said they had “locked down” the city of Lod in central Israel, the first time such an action has been taken in decades, and arrested 280 people accused of rioting across the country.</p>,\n",
              " <p class=\"css-axufdj evys1bk0\">Prime Minister Benjamin Netanyahu described the violence as “anarchy” and convened an emergency cabinet meeting that lasted into the early hours of Thursday to “give more powers to the police” and enforce curfews “as needed.”</p>,\n",
              " <p class=\"css-axufdj evys1bk0\">The sudden turn of events, which in less than two full days has escalated from a localized dispute in Jerusalem to full-scale aerial war over Gaza to widespread civil unrest, shocked Israelis and Palestinians alike, and left some of the country’s most experienced leaders fearing that the decades-old Israel-Palestinian conflict was heading into new territory.</p>,\n",
              " <p class=\"css-axufdj evys1bk0\">For years, leaders warned that a failure to resolve the Israeli-Palestinian conflict might eventually lead to fighting within the state of Israel itself, said Tzipi Livni, a veteran former cabinet minister and former chief negotiator in peace talks with the Palestinians.</p>,\n",
              " <p class=\"css-axufdj evys1bk0\">“And this is exactly what is happening now,” she said. “What was maybe under the surface has now exploded, and created a combination that is really horrific.”</p>,\n",
              " <p class=\"css-axufdj evys1bk0\">“I don’t want to use the words ‘civil war,’” she added. “But this is something that is new, this is unbearable, this is horrific, and I’m very worried.”</p>,\n",
              " <p class=\"css-axufdj evys1bk0\">The unrest has shifted the Palestinian conflict to world attention after several years in which attempts to resolve it had faded from both the global and domestic agenda. Once a centerpiece of international diplomacy, there have been no serious peace talks since the Obama administration.</p>,\n",
              " <p class=\"css-axufdj evys1bk0\">President Donald J. Trump sidelined the Palestinian conflict, and persuaded four Arab governments to normalize relations with Israel, shattering decades of Arab consensus that resolving the Palestinian conflict and ending the occupation had to come first.</p>,\n",
              " <p class=\"css-axufdj evys1bk0\">For weeks, ethnic tensions had been rising in Jerusalem, the center of the conflict. In April, far-right Jews marched through the city center, chanting “Death to Arabs,” and mobs of both Jews and Arabs attacked each other.</p>,\n",
              " <p class=\"css-axufdj evys1bk0\">Palestinian anger increased as a deadline to <a class=\"css-1g7m0tk\" href=\"https://www.nytimes.com/2021/05/07/world/middleeast/evictions-jerusalem-israeli-palestinian-conflict-protest.html\" title=\"\">expel several families</a> from their homes in Sheikh Jarrah, East Jerusalem, approached — a case that quickly became a stand-in for historic expulsions of Palestinians from land in Israel.</p>,\n",
              " <p class=\"css-axufdj evys1bk0\">The situation finally boiled over after a police raid on one of Islam’s holiest sites, the Aqsa mosque in Jerusalem, on Monday, which the police said was in response to stone-throwing by Palestinian demonstrators.</p>,\n",
              " <p class=\"css-axufdj evys1bk0\">Hamas launched long-range rockets at Jerusalem on Monday evening, prompting Israel to respond with airstrikes. The military conflict also unleashed a wave of protests and rioting in Arab areas across Israel that night.</p>,\n",
              " <p class=\"css-axufdj evys1bk0\">As the violence escalated, diplomats around the world called for both sides to end the fighting.</p>,\n",
              " <p class=\"css-axufdj evys1bk0\">Speaking to reporters, President Joseph R. Biden said that he had spoken “for a while” to Mr. Netanyahu on Wednesday and said his expectation was that tensions would be “closing down sooner rather than later.” Mr. Biden added that “Israel has a right to defend itself, when you have thousands of rockets flying into your territory.”</p>,\n",
              " <p class=\"css-axufdj evys1bk0\">Officials in several Arab countries, including some that had normalized relations with Israel, criticized its actions. Saudi Arabia, which has not normalized relations with Israel, condemned “in the strongest terms the blatant attacks carried out by the Israeli occupation forces against the sanctity of the Al Aqsa Mosque.”</p>,\n",
              " <p class=\"css-axufdj evys1bk0\">In Kuwait and Istanbul, there were protests on Tuesday night.</p>,\n",
              " <p class=\"css-axufdj evys1bk0\">While the immediate triggers for the Palestinian rioting were the Aqsa mosque, the Sheikh Jarrah case and the Gaza conflict, the riots also gave vent to years of pent-up anger from Israel’s Arab minority, which represents about 20 percent of the population.</p>,\n",
              " <p class=\"css-axufdj evys1bk0\">They have full citizenship and many have become lawmakers, judges and senior civil servants. But rights advocates say they are nevertheless victims of dozens of <a class=\"css-1g7m0tk\" href=\"http://www.adalah.org/en/law/index\" rel=\"noopener noreferrer\" target=\"_blank\" title=\"\">discriminatory laws</a>, not least a recent law that downgraded the status of the Arabic language and said that only Jews had the right to determine the nature of the Israeli state.</p>,\n",
              " <p class=\"css-axufdj evys1bk0\">“The way that we are treated is as though we shouldn’t be here,” said Diana Buttu, a Palestinian political analyst from Haifa, a northern city in Israel, and a former legal adviser to the Palestine Liberation Organization. “We are the people who they mistakenly did not ethnically cleanse from this place.”</p>,\n",
              " <p class=\"css-axufdj evys1bk0\">In the central city of Lod, the government declared a state of emergency early Wednesday after a synagogue, school and several vehicles were burned by Arab rioters on Monday and Tuesday nights.</p>,\n",
              " <p class=\"css-axufdj evys1bk0\">A Palestinian citizen, Moussa Hassouna, was shot dead by a Jewish resident during the disturbances on Monday night, and another wave of unrest followed his funeral 24 hours later.</p>,\n",
              " <p class=\"css-axufdj evys1bk0\">The Israeli police said that Arab mobs were pulling Jews from their homes and trying to kill them.</p>,\n",
              " <p class=\"css-axufdj evys1bk0\">“I feel like it’s 100 years ago, and I’m a defenseless Jew in the pogroms,” said Shabtai Pessin, 27, standing in a burned-out classroom at a religious school in Lod. “What’s our sin? Wanting a Jewish state after 2000 years of exile?”</p>,\n",
              " <p class=\"css-axufdj evys1bk0\">In the northern city of Acre, a popular Jewish fish restaurant was set on fire, while Arab Bedouins attacked police stations and passing cars in the Negev desert, in southern Israel.</p>,\n",
              " <p class=\"css-axufdj evys1bk0\">On Wednesday, these riots prompted crowds of Jews to respond. Video distributed on Wednesday night showed mobs attempting to <a class=\"css-1g7m0tk\" href=\"https://twitter.com/OmarBaddar/status/1392684762142330881?s=20\" rel=\"noopener noreferrer\" target=\"_blank\" title=\"\">break</a> into an Arab family’s apartment; <a class=\"css-1g7m0tk\" href=\"https://twitter.com/OmarBaddar/status/1392684935413174274?s=20\" rel=\"noopener noreferrer\" target=\"_blank\" title=\"\">smashing</a> the windows of shops they believed to be Arab-owned; and setting up roadblocks to <a class=\"css-1g7m0tk\" href=\"https://twitter.com/OmarBaddar/status/1392690565997809664?s=20\" rel=\"noopener noreferrer\" target=\"_blank\" title=\"\">catch</a> Arab drivers.</p>,\n",
              " <p class=\"css-axufdj evys1bk0\">In Lod, Arab families feared revenge attacks that summoned up memories of past traumas. Thousands of Palestinians fled their homes there in 1948, never to return.</p>,\n",
              " <p class=\"css-axufdj evys1bk0\">“I still feel unsure whether I can keep living here,” said Maha Nakib, 50, an administrator and former City Council member in Lod. “I fear they will try to expel us from our homes.”</p>,\n",
              " <p class=\"css-axufdj evys1bk0\">In the cities of Or Akiva and Beersheva, Jews stoned the cars of people they believed to be Arab. In Tiberias, they threw rocks at hotels housing Arabs, who hurled objects from their windows in return. Cars were set on fire in several towns.</p>,\n",
              " <p class=\"css-axufdj evys1bk0\">And an Arab mob in Acre ransacked a Jewish-owned hotel.</p>,\n",
              " <p class=\"css-axufdj evys1bk0\">“It’s happening as we speak,” the hotel’s owner, Evan Fallenberg, said by phone on Wednesday night.</p>,\n",
              " <p class=\"css-axufdj evys1bk0\">“People are saying this is a rupture that we won’t be able to overcome. I don’t believe that — I know my friendships are lasting ones. But it is going to put everything to the test. We’re headed into something extremely difficult and dangerous, and I don’t know where this is going to end or how.”</p>]"
            ]
          },
          "metadata": {
            "tags": []
          },
          "execution_count": 37
        }
      ]
    },
    {
      "cell_type": "code",
      "metadata": {
        "colab": {
          "base_uri": "https://localhost:8080/",
          "height": 125
        },
        "id": "x9BpBu7PBRbr",
        "outputId": "a372a8e9-df73-4773-e00a-bbb84a38c550"
      },
      "source": [
        "main=''\n",
        "for i in soupNY.find_all('p',class_=\"css-axufdj evys1bk0\"):\n",
        "  main+=i.get_text().strip()\n",
        "\n",
        "main"
      ],
      "execution_count": null,
      "outputs": [
        {
          "output_type": "execute_result",
          "data": {
            "application/vnd.google.colaboratory.intrinsic+json": {
              "type": "string"
            },
            "text/plain": [
              "'JERUSALEM — A new front opened in the military showdown between the Israeli Army and Palestinian militants in Gaza on Wednesday as a wave of mob violence between Jews and Arabs spread across several Israeli cities, leading to riots and attacks in the streets as rockets and missiles streaked across the sky.Israel said it assassinated 10 senior militants and continued to pound both military and residential areas across the Gaza Strip with airstrikes, while Hamas, the Islamist group that rules Gaza, and its allies continued to fire rockets into civilian areas across central and southern Israel.More than 1,000 rockets had been fired from Gaza by Wednesday night, most of them intercepted by an antimissile defense system, the Israeli military said.More than 67 Palestinians, including 16 children, have died since the start of the conflict on Monday, Palestinian health officials said. The rockets fired by Hamas and its Islamist ally, Islamic Jihad, killed at least six Israeli civilians, including a 5-year-old boy and one soldier.The fighting showed no signs of letting up. An Israeli military official said Wednesday that three infantry brigades were “preparing for a worst-case scenario,” confirming that a ground invasion could follow the bombardment from the air.But the most unexpected developments played out on the streets of Israeli cities and towns, as rival Jewish and Arab mobs attacked people, cars, shops, offices and hotels.One of the most chilling incidents was in Bat Yam, a seaside suburb south of Tel Aviv, where dozens of Jewish extremists took turns beating and kicking a man presumed to be an Arab, even as his body lay motionless on the ground. A video of the attack was broadcast on Israeli television.In Acre, a northern coastal town, an Arab mob beat a man presumed to be Jewish with sticks and rocks, leaving him in a critical condition in another attack captured on video. In Tamra, an Arab mob attacked a man presumed to be Jewish and nearly beat him to death, according to an Arab paramedic who saved him.Israeli officials said they had “locked down” the city of Lod in central Israel, the first time such an action has been taken in decades, and arrested 280 people accused of rioting across the country.Prime Minister Benjamin Netanyahu described the violence as “anarchy” and convened an emergency cabinet meeting that lasted into the early hours of Thursday to “give more powers to the police” and enforce curfews “as needed.”The sudden turn of events, which in less than two full days has escalated from a localized dispute in Jerusalem to full-scale aerial war over Gaza to widespread civil unrest, shocked Israelis and Palestinians alike, and left some of the country’s most experienced leaders fearing that the decades-old Israel-Palestinian conflict was heading into new territory.For years, leaders warned that a failure to resolve the Israeli-Palestinian conflict might eventually lead to fighting within the state of Israel itself, said Tzipi Livni, a veteran former cabinet minister and former chief negotiator in peace talks with the Palestinians.“And this is exactly what is happening now,” she said. “What was maybe under the surface has now exploded, and created a combination that is really horrific.”“I don’t want to use the words ‘civil war,’” she added. “But this is something that is new, this is unbearable, this is horrific, and I’m very worried.”The unrest has shifted the Palestinian conflict to world attention after several years in which attempts to resolve it had faded from both the global and domestic agenda. Once a centerpiece of international diplomacy, there have been no serious peace talks since the Obama administration.President Donald J. Trump sidelined the Palestinian conflict, and persuaded four Arab governments to normalize relations with Israel, shattering decades of Arab consensus that resolving the Palestinian conflict and ending the occupation had to come first.For weeks, ethnic tensions had been rising in Jerusalem, the center of the conflict. In April, far-right Jews marched through the city center, chanting “Death to Arabs,” and mobs of both Jews and Arabs attacked each other.Palestinian anger increased as a deadline to expel several families from their homes in Sheikh Jarrah, East Jerusalem, approached — a case that quickly became a stand-in for historic expulsions of Palestinians from land in Israel.The situation finally boiled over after a police raid on one of Islam’s holiest sites, the Aqsa mosque in Jerusalem, on Monday, which the police said was in response to stone-throwing by Palestinian demonstrators.Hamas launched long-range rockets at Jerusalem on Monday evening, prompting Israel to respond with airstrikes. The military conflict also unleashed a wave of protests and rioting in Arab areas across Israel that night.As the violence escalated, diplomats around the world called for both sides to end the fighting.Speaking to reporters, President Joseph R. Biden said that he had spoken “for a while” to Mr. Netanyahu on Wednesday and said his expectation was that tensions would be “closing down sooner rather than later.” Mr. Biden added that “Israel has a right to defend itself, when you have thousands of rockets flying into your territory.”Officials in several Arab countries, including some that had normalized relations with Israel, criticized its actions. Saudi Arabia, which has not normalized relations with Israel, condemned “in the strongest terms the blatant attacks carried out by the Israeli occupation forces against the sanctity of the Al Aqsa Mosque.”In Kuwait and Istanbul, there were protests on Tuesday night.While the immediate triggers for the Palestinian rioting were the Aqsa mosque, the Sheikh Jarrah case and the Gaza conflict, the riots also gave vent to years of pent-up anger from Israel’s Arab minority, which represents about 20 percent of the population.They have full citizenship and many have become lawmakers, judges and senior civil servants. But rights advocates say they are nevertheless victims of dozens of discriminatory laws, not least a recent law that downgraded the status of the Arabic language and said that only Jews had the right to determine the nature of the Israeli state.“The way that we are treated is as though we shouldn’t be here,” said Diana Buttu, a Palestinian political analyst from Haifa, a northern city in Israel, and a former legal adviser to the Palestine Liberation Organization. “We are the people who they mistakenly did not ethnically cleanse from this place.”In the central city of Lod, the government declared a state of emergency early Wednesday after a synagogue, school and several vehicles were burned by Arab rioters on Monday and Tuesday nights.A Palestinian citizen, Moussa Hassouna, was shot dead by a Jewish resident during the disturbances on Monday night, and another wave of unrest followed his funeral 24 hours later.The Israeli police said that Arab mobs were pulling Jews from their homes and trying to kill them.“I feel like it’s 100 years ago, and I’m a defenseless Jew in the pogroms,” said Shabtai Pessin, 27, standing in a burned-out classroom at a religious school in Lod. “What’s our sin? Wanting a Jewish state after 2000 years of exile?”In the northern city of Acre, a popular Jewish fish restaurant was set on fire, while Arab Bedouins attacked police stations and passing cars in the Negev desert, in southern Israel.On Wednesday, these riots prompted crowds of Jews to respond. Video distributed on Wednesday night showed mobs attempting to break into an Arab family’s apartment; smashing the windows of shops they believed to be Arab-owned; and setting up roadblocks to catch Arab drivers.In Lod, Arab families feared revenge attacks that summoned up memories of past traumas. Thousands of Palestinians fled their homes there in 1948, never to return.“I still feel unsure whether I can keep living here,” said Maha Nakib, 50, an administrator and former City Council member in Lod. “I fear they will try to expel us from our homes.”In the cities of Or Akiva and Beersheva, Jews stoned the cars of people they believed to be Arab. In Tiberias, they threw rocks at hotels housing Arabs, who hurled objects from their windows in return. Cars were set on fire in several towns.And an Arab mob in Acre ransacked a Jewish-owned hotel.“It’s happening as we speak,” the hotel’s owner, Evan Fallenberg, said by phone on Wednesday night.“People are saying this is a rupture that we won’t be able to overcome. I don’t believe that — I know my friendships are lasting ones. But it is going to put everything to the test. We’re headed into something extremely difficult and dangerous, and I don’t know where this is going to end or how.”'"
            ]
          },
          "metadata": {
            "tags": []
          },
          "execution_count": 38
        }
      ]
    },
    {
      "cell_type": "code",
      "metadata": {
        "colab": {
          "base_uri": "https://localhost:8080/",
          "height": 125
        },
        "id": "ippVdbxiE_Ct",
        "outputId": "4d095299-96e8-4c8c-f47e-41d2a31b08f7"
      },
      "source": [
        "main.replace(\"[^a-zA-Z#]\", \" \")"
      ],
      "execution_count": null,
      "outputs": [
        {
          "output_type": "execute_result",
          "data": {
            "application/vnd.google.colaboratory.intrinsic+json": {
              "type": "string"
            },
            "text/plain": [
              "'JERUSALEM — A new front opened in the military showdown between the Israeli Army and Palestinian militants in Gaza on Wednesday as a wave of mob violence between Jews and Arabs spread across several Israeli cities, leading to riots and attacks in the streets as rockets and missiles streaked across the sky.Israel said it assassinated 10 senior militants and continued to pound both military and residential areas across the Gaza Strip with airstrikes, while Hamas, the Islamist group that rules Gaza, and its allies continued to fire rockets into civilian areas across central and southern Israel.More than 1,000 rockets had been fired from Gaza by Wednesday night, most of them intercepted by an antimissile defense system, the Israeli military said.More than 67 Palestinians, including 16 children, have died since the start of the conflict on Monday, Palestinian health officials said. The rockets fired by Hamas and its Islamist ally, Islamic Jihad, killed at least six Israeli civilians, including a 5-year-old boy and one soldier.The fighting showed no signs of letting up. An Israeli military official said Wednesday that three infantry brigades were “preparing for a worst-case scenario,” confirming that a ground invasion could follow the bombardment from the air.But the most unexpected developments played out on the streets of Israeli cities and towns, as rival Jewish and Arab mobs attacked people, cars, shops, offices and hotels.One of the most chilling incidents was in Bat Yam, a seaside suburb south of Tel Aviv, where dozens of Jewish extremists took turns beating and kicking a man presumed to be an Arab, even as his body lay motionless on the ground. A video of the attack was broadcast on Israeli television.In Acre, a northern coastal town, an Arab mob beat a man presumed to be Jewish with sticks and rocks, leaving him in a critical condition in another attack captured on video. In Tamra, an Arab mob attacked a man presumed to be Jewish and nearly beat him to death, according to an Arab paramedic who saved him.Israeli officials said they had “locked down” the city of Lod in central Israel, the first time such an action has been taken in decades, and arrested 280 people accused of rioting across the country.Prime Minister Benjamin Netanyahu described the violence as “anarchy” and convened an emergency cabinet meeting that lasted into the early hours of Thursday to “give more powers to the police” and enforce curfews “as needed.”The sudden turn of events, which in less than two full days has escalated from a localized dispute in Jerusalem to full-scale aerial war over Gaza to widespread civil unrest, shocked Israelis and Palestinians alike, and left some of the country’s most experienced leaders fearing that the decades-old Israel-Palestinian conflict was heading into new territory.For years, leaders warned that a failure to resolve the Israeli-Palestinian conflict might eventually lead to fighting within the state of Israel itself, said Tzipi Livni, a veteran former cabinet minister and former chief negotiator in peace talks with the Palestinians.“And this is exactly what is happening now,” she said. “What was maybe under the surface has now exploded, and created a combination that is really horrific.”“I don’t want to use the words ‘civil war,’” she added. “But this is something that is new, this is unbearable, this is horrific, and I’m very worried.”The unrest has shifted the Palestinian conflict to world attention after several years in which attempts to resolve it had faded from both the global and domestic agenda. Once a centerpiece of international diplomacy, there have been no serious peace talks since the Obama administration.President Donald J. Trump sidelined the Palestinian conflict, and persuaded four Arab governments to normalize relations with Israel, shattering decades of Arab consensus that resolving the Palestinian conflict and ending the occupation had to come first.For weeks, ethnic tensions had been rising in Jerusalem, the center of the conflict. In April, far-right Jews marched through the city center, chanting “Death to Arabs,” and mobs of both Jews and Arabs attacked each other.Palestinian anger increased as a deadline to expel several families from their homes in Sheikh Jarrah, East Jerusalem, approached — a case that quickly became a stand-in for historic expulsions of Palestinians from land in Israel.The situation finally boiled over after a police raid on one of Islam’s holiest sites, the Aqsa mosque in Jerusalem, on Monday, which the police said was in response to stone-throwing by Palestinian demonstrators.Hamas launched long-range rockets at Jerusalem on Monday evening, prompting Israel to respond with airstrikes. The military conflict also unleashed a wave of protests and rioting in Arab areas across Israel that night.As the violence escalated, diplomats around the world called for both sides to end the fighting.Speaking to reporters, President Joseph R. Biden said that he had spoken “for a while” to Mr. Netanyahu on Wednesday and said his expectation was that tensions would be “closing down sooner rather than later.” Mr. Biden added that “Israel has a right to defend itself, when you have thousands of rockets flying into your territory.”Officials in several Arab countries, including some that had normalized relations with Israel, criticized its actions. Saudi Arabia, which has not normalized relations with Israel, condemned “in the strongest terms the blatant attacks carried out by the Israeli occupation forces against the sanctity of the Al Aqsa Mosque.”In Kuwait and Istanbul, there were protests on Tuesday night.While the immediate triggers for the Palestinian rioting were the Aqsa mosque, the Sheikh Jarrah case and the Gaza conflict, the riots also gave vent to years of pent-up anger from Israel’s Arab minority, which represents about 20 percent of the population.They have full citizenship and many have become lawmakers, judges and senior civil servants. But rights advocates say they are nevertheless victims of dozens of discriminatory laws, not least a recent law that downgraded the status of the Arabic language and said that only Jews had the right to determine the nature of the Israeli state.“The way that we are treated is as though we shouldn’t be here,” said Diana Buttu, a Palestinian political analyst from Haifa, a northern city in Israel, and a former legal adviser to the Palestine Liberation Organization. “We are the people who they mistakenly did not ethnically cleanse from this place.”In the central city of Lod, the government declared a state of emergency early Wednesday after a synagogue, school and several vehicles were burned by Arab rioters on Monday and Tuesday nights.A Palestinian citizen, Moussa Hassouna, was shot dead by a Jewish resident during the disturbances on Monday night, and another wave of unrest followed his funeral 24 hours later.The Israeli police said that Arab mobs were pulling Jews from their homes and trying to kill them.“I feel like it’s 100 years ago, and I’m a defenseless Jew in the pogroms,” said Shabtai Pessin, 27, standing in a burned-out classroom at a religious school in Lod. “What’s our sin? Wanting a Jewish state after 2000 years of exile?”In the northern city of Acre, a popular Jewish fish restaurant was set on fire, while Arab Bedouins attacked police stations and passing cars in the Negev desert, in southern Israel.On Wednesday, these riots prompted crowds of Jews to respond. Video distributed on Wednesday night showed mobs attempting to break into an Arab family’s apartment; smashing the windows of shops they believed to be Arab-owned; and setting up roadblocks to catch Arab drivers.In Lod, Arab families feared revenge attacks that summoned up memories of past traumas. Thousands of Palestinians fled their homes there in 1948, never to return.“I still feel unsure whether I can keep living here,” said Maha Nakib, 50, an administrator and former City Council member in Lod. “I fear they will try to expel us from our homes.”In the cities of Or Akiva and Beersheva, Jews stoned the cars of people they believed to be Arab. In Tiberias, they threw rocks at hotels housing Arabs, who hurled objects from their windows in return. Cars were set on fire in several towns.And an Arab mob in Acre ransacked a Jewish-owned hotel.“It’s happening as we speak,” the hotel’s owner, Evan Fallenberg, said by phone on Wednesday night.“People are saying this is a rupture that we won’t be able to overcome. I don’t believe that — I know my friendships are lasting ones. But it is going to put everything to the test. We’re headed into something extremely difficult and dangerous, and I don’t know where this is going to end or how.”'"
            ]
          },
          "metadata": {
            "tags": []
          },
          "execution_count": 39
        }
      ]
    },
    {
      "cell_type": "code",
      "metadata": {
        "colab": {
          "base_uri": "https://localhost:8080/",
          "height": 125
        },
        "id": "NEpdZwmIJq4z",
        "outputId": "d52cc026-e09c-406c-e979-7761fc3a37e9"
      },
      "source": [
        "import nltk\n",
        "nltk.download('punkt')\n",
        "a=sent_tokenize(main)\n",
        "a[10]"
      ],
      "execution_count": null,
      "outputs": [
        {
          "output_type": "stream",
          "text": [
            "[nltk_data] Downloading package punkt to /root/nltk_data...\n",
            "[nltk_data]   Package punkt is already up-to-date!\n"
          ],
          "name": "stdout"
        },
        {
          "output_type": "execute_result",
          "data": {
            "application/vnd.google.colaboratory.intrinsic+json": {
              "type": "string"
            },
            "text/plain": [
              "'Saudi Arabia, which has not normalized relations with Israel, condemned “in the strongest terms the blatant attacks carried out by the Israeli occupation forces against the sanctity of the Al Aqsa Mosque.”In Kuwait and Istanbul, there were protests on Tuesday night.While the immediate triggers for the Palestinian rioting were the Aqsa mosque, the Sheikh Jarrah case and the Gaza conflict, the riots also gave vent to years of pent-up anger from Israel’s Arab minority, which represents about 20 percent of the population.They have full citizenship and many have become lawmakers, judges and senior civil servants.'"
            ]
          },
          "metadata": {
            "tags": []
          },
          "execution_count": 49
        }
      ]
    },
    {
      "cell_type": "code",
      "metadata": {
        "id": "V7F64PdrKaog"
      },
      "source": [
        ""
      ],
      "execution_count": null,
      "outputs": []
    }
  ]
}