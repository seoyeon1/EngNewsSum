{
 "cells": [
  {
   "cell_type": "markdown",
   "metadata": {},
   "source": [
    "# Data to CSV / dataframe"
   ]
  },
  {
   "cell_type": "markdown",
   "metadata": {},
   "source": [
    "## Collecting data\n",
    "We will collect all the data and store it in a list format.<br>\n",
    "It will collect the summary data and text data in different lists and return it."
   ]
  },
  {
   "cell_type": "code",
   "execution_count": 1,
   "metadata": {},
   "outputs": [],
   "source": [
    "import os\n",
    "import pandas as pd\n",
    "\n",
    "def generate_data(folder, sect):\n",
    "\n",
    "    print(\"Collecting data.... \", end='')\n",
    "    data = []\n",
    "    count = 0\n",
    "    \n",
    "    for file in os.listdir(folder):\n",
    "        if file == sect:\n",
    "            for file in os.listdir(folder + sect):\n",
    "                try:\n",
    "                    text = ''\n",
    "                    name = file\n",
    "                    myfile = open(folder+sect+'/'+file, \"r\")\n",
    "                    text = myfile.read()\n",
    "                    mylist = [name, text]\n",
    "                    count +=1\n",
    "                    data.append(mylist)\n",
    "                except:\n",
    "                    continue\n",
    "\n",
    "    print(\"collected!\")\n",
    "    print(str(count) + \" text files found in \"+ sect + \" folder.\")\n",
    "    print(\"Data generated\")\n",
    "    return (data, count)"
   ]
  },
  {
   "cell_type": "markdown",
   "metadata": {},
   "source": [
    "## Match Data and convert to csv file\n",
    "After collecting both the summary data and text data, \n",
    "1. Convert the lists into dataframes\n",
    "2. Join the two dataframes on file name\n",
    "3. Save it as csv files"
   ]
  },
  {
   "cell_type": "code",
   "execution_count": 2,
   "metadata": {},
   "outputs": [],
   "source": [
    "def match_data(data_text, data_summary, count, name):\n",
    "    \n",
    "    print(\"Creating dataframe.....\", end='')\n",
    "    df_text = pd.DataFrame(data_text, columns = ['File', 'Text'])\n",
    "    df_sum = pd.DataFrame(data_summary, columns = ['File', 'Summary'])\n",
    "    print(\"DONE!\")\n",
    "    \n",
    "    print(\"Joining dataframes.....\", end='')\n",
    "    df_final = pd.merge(df_text, df_sum, on='File')\n",
    "    print(\"DONE!\")\n",
    "    \n",
    "    df_final.to_csv(name + '.csv')\n",
    "    print(name+ \".csv Saved\")\n",
    "    \n",
    "    return df_final"
   ]
  },
  {
   "cell_type": "markdown",
   "metadata": {},
   "source": [
    "## Run functions for each Category"
   ]
  },
  {
   "cell_type": "code",
   "execution_count": 4,
   "metadata": {},
   "outputs": [
    {
     "name": "stdout",
     "output_type": "stream",
     "text": [
      "Collecting data.... collected!\n",
      "510 text files found in business folder.\n",
      "Data generated\n",
      "Collecting data.... collected!\n",
      "510 text files found in business folder.\n",
      "Data generated\n",
      "Creating dataframe.....DONE!\n",
      "Joining dataframes.....DONE!\n",
      "business2.csv Saved\n",
      "Collecting data.... collected!\n",
      "386 text files found in entertainment folder.\n",
      "Data generated\n",
      "Collecting data.... collected!\n",
      "386 text files found in entertainment folder.\n",
      "Data generated\n",
      "Creating dataframe.....DONE!\n",
      "Joining dataframes.....DONE!\n",
      "entertainment2.csv Saved\n",
      "Collecting data.... collected!\n",
      "417 text files found in politics folder.\n",
      "Data generated\n",
      "Collecting data.... collected!\n",
      "417 text files found in politics folder.\n",
      "Data generated\n",
      "Creating dataframe.....DONE!\n",
      "Joining dataframes.....DONE!\n",
      "politics2.csv Saved\n",
      "Collecting data.... collected!\n",
      "401 text files found in tech folder.\n",
      "Data generated\n",
      "Collecting data.... collected!\n",
      "401 text files found in tech folder.\n",
      "Data generated\n",
      "Creating dataframe.....DONE!\n",
      "Joining dataframes.....DONE!\n",
      "tech2.csv Saved\n"
     ]
    }
   ],
   "source": [
    "directory_text = \"C:\\\\Users\\\\user\\\\Desktop\\\\ICT\\\\BBC News Summary\\\\BBC News Summary\\\\News Articles\\\\\"\n",
    "\n",
    "directory_sum = \"C:\\\\Users\\\\user\\\\Desktop\\\\ICT\\\\BBC News Summary\\\\BBC News Summary\\\\Summaries\\\\\"\n",
    "\n",
    "data_business, count = generate_data( directory_text, 'business')#원문 폴더\n",
    "data_business_summary, count = generate_data( directory_sum, 'business')#요약 폴더\n",
    "df_business = match_data(data_business, data_business_summary, count, \"business2\")#합친 파일\n",
    "\n",
    "data_entertainment, count = generate_data( directory_text, 'entertainment')\n",
    "data_entertainment_summary, count = generate_data( directory_sum, 'entertainment')\n",
    "df_entertainment = match_data(data_entertainment, data_entertainment_summary, count, \"entertainment2\")\n",
    "\n",
    "data_politics, count = generate_data( directory_text, 'politics')\n",
    "data_politics_summary, count = generate_data( directory_sum, 'politics')\n",
    "df_politics = match_data(data_politics, data_politics_summary, count, \"politics2\")\n",
    "\n",
    "#data_sport, count = generate_data( directory_text, 'sport')\n",
    "#data_sport_summary, count = generate_data( directory_sum, 'sport')\n",
    "#df_sport = match_data(data_sport, data_sport_summary, count, \"sport\")\n",
    "\n",
    "data_tech, count = generate_data( directory_text, 'tech')\n",
    "data_tech_summary, count = generate_data( directory_sum, 'tech')\n",
    "df_tech = match_data(data_tech, data_tech_summary, count, \"tech2\")"
   ]
  },
  {
   "cell_type": "markdown",
   "metadata": {},
   "source": [
    "## Wait!\n",
    "\n",
    "As a result of the previous integration, one file is missing(510/511).<br>\n",
    "I've checked by sector, and I've found that data 199 in sports is missing, and I've added it myself."
   ]
  },
  {
   "cell_type": "code",
   "execution_count": 5,
   "metadata": {},
   "outputs": [
    {
     "name": "stdout",
     "output_type": "stream",
     "text": [
      "Collecting data.... collected!\n",
      "510 text files found in sport folder.\n",
      "Data generated\n",
      "Collecting data.... collected!\n",
      "511 text files found in sport folder.\n",
      "Data generated\n",
      "Creating dataframe.....DONE!\n",
      "Joining dataframes.....DONE!\n",
      "sport2.csv Saved\n"
     ]
    }
   ],
   "source": [
    "directory_text = \"C:\\\\Users\\\\user\\\\Desktop\\\\ICT\\\\BBC News Summary\\\\BBC News Summary\\\\News Articles\\\\\"\n",
    "\n",
    "directory_sum = \"C:\\\\Users\\\\user\\\\Desktop\\\\ICT\\\\BBC News Summary\\\\BBC News Summary\\\\Summaries\\\\\"\n",
    "\n",
    "data_sport, count = generate_data( directory_text, 'sport')\n",
    "data_sport_summary, count = generate_data( directory_sum, 'sport')\n",
    "df_sport = match_data(data_sport, data_sport_summary, count, \"sport\")"
   ]
  },
  {
   "cell_type": "code",
   "execution_count": 14,
   "metadata": {},
   "outputs": [
    {
     "data": {
      "text/plain": [
       "list"
      ]
     },
     "execution_count": 14,
     "metadata": {},
     "output_type": "execute_result"
    }
   ],
   "source": [
    "type(data_business)"
   ]
  },
  {
   "cell_type": "markdown",
   "metadata": {},
   "source": [
    "## Join CSV\n",
    "Renames the generated csv files to the form 'origin* '<br>\n",
    "Join together csv files as result files"
   ]
  },
  {
   "cell_type": "code",
   "execution_count": 7,
   "metadata": {},
   "outputs": [
    {
     "name": "stdout",
     "output_type": "stream",
     "text": [
      "['C:\\\\Users\\\\user\\\\Desktop\\\\ICT\\\\5\\\\total_data\\\\origin01.csv', 'C:\\\\Users\\\\user\\\\Desktop\\\\ICT\\\\5\\\\total_data\\\\origin02.csv', 'C:\\\\Users\\\\user\\\\Desktop\\\\ICT\\\\5\\\\total_data\\\\origin03.csv', 'C:\\\\Users\\\\user\\\\Desktop\\\\ICT\\\\5\\\\total_data\\\\origin04.csv', 'C:\\\\Users\\\\user\\\\Desktop\\\\ICT\\\\5\\\\total_data\\\\origin05.csv']\n"
     ]
    }
   ],
   "source": [
    "import glob\n",
    "\n",
    "input_file = r'C:\\Users\\user\\Desktop\\ICT\\5\\total_data' # csv파일들이 있는 디렉토리 위치\n",
    "output_file = r'C:\\Users\\user\\Desktop\\ICT\\5\\total_data\\result.csv' # 합친 결과를 저장할 파일명\n",
    "\n",
    "allFile_list = glob.glob(os.path.join(input_file, 'origin*')) # glob함수로 origin으로 시작하는 파일들을 모은다\n",
    "print(allFile_list)\n",
    "allData = [] # 읽어 들인 csv파일 내용을 저장할 빈 리스트\n",
    "for file in allFile_list:\n",
    "    df = pd.read_csv(file) # for문으로 csv파일들을 read\n",
    "    allData.append(df) # 읽은 내용 추가\n",
    "\n",
    "dataCombine = pd.concat(allData, axis=0, ignore_index=True) # concat:리스트의 내용을 병합\n",
    "# axis=0 : 수직 병합, ignore_index=True : 인데스 값이 기존 순서를 무시하고 추가한 순서대로 정렬\n",
    "dataCombine.to_csv(output_file, index=False) # to_csv로 결과 저장"
   ]
  },
  {
   "cell_type": "markdown",
   "metadata": {},
   "source": [
    "## Info on the generated files"
   ]
  },
  {
   "cell_type": "code",
   "execution_count": 10,
   "metadata": {},
   "outputs": [
    {
     "name": "stdout",
     "output_type": "stream",
     "text": [
      "C:\\Users\\user\\Desktop\\ICT\\5\\total_data\\\\origin01 510\n",
      "C:\\Users\\user\\Desktop\\ICT\\5\\total_data\\\\origin02 386\n",
      "C:\\Users\\user\\Desktop\\ICT\\5\\total_data\\\\origin03 417\n",
      "C:\\Users\\user\\Desktop\\ICT\\5\\total_data\\\\origin04 401\n",
      "C:\\Users\\user\\Desktop\\ICT\\5\\total_data\\\\origin05 511\n",
      "C:\\Users\\user\\Desktop\\ICT\\5\\total_data\\\\result 2225\n"
     ]
    }
   ],
   "source": [
    "filePath = r'C:\\Users\\user\\Desktop\\ICT\\5\\total_data\\\\'  # 폴더 주소\n",
    "\n",
    "fileAll = os.listdir(filePath)\n",
    "fileCsv = [filePath + file[:-4] for file in fileAll if file.endswith('.csv')] # csv에만 적용\n",
    "\n",
    "for file in fileCsv:\n",
    "    df = pd.read_csv(file + '.csv')\n",
    "    print(file, len(df))  #파일명과 길이 출력\n"
   ]
  },
  {
   "cell_type": "code",
   "execution_count": null,
   "metadata": {},
   "outputs": [],
   "source": []
  },
  {
   "cell_type": "code",
   "execution_count": null,
   "metadata": {},
   "outputs": [],
   "source": []
  },
  {
   "cell_type": "code",
   "execution_count": null,
   "metadata": {},
   "outputs": [],
   "source": []
  }
 ],
 "metadata": {
  "kernelspec": {
   "display_name": "Python 3",
   "language": "python",
   "name": "python3"
  },
  "language_info": {
   "codemirror_mode": {
    "name": "ipython",
    "version": 3
   },
   "file_extension": ".py",
   "mimetype": "text/x-python",
   "name": "python",
   "nbconvert_exporter": "python",
   "pygments_lexer": "ipython3",
   "version": "3.8.8"
  }
 },
 "nbformat": 4,
 "nbformat_minor": 4
}
